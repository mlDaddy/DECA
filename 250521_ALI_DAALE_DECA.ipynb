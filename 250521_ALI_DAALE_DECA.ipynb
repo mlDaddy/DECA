{
  "cells": [
    {
      "cell_type": "markdown",
      "source": [
        "## Project Overview\n",
        "\n",
        "In this notebook, we set up a complete pipeline for 3D face reconstruction and visualization.  \n",
        "The pipeline includes the following components:\n",
        "\n",
        "A. Setting up a graphical user interface (GUI) for user prompts  \n",
        "B. Integrating DALL·E for image generation  \n",
        "C. Configuring the DECA pipeline for 3D face reconstruction  \n",
        "D. Visualizing the output 3D object\n",
        "\n",
        "Each section of the notebook will guide you through the setup and usage of these components."
      ],
      "metadata": {
        "id": "5xpreUMqR2ig"
      }
    },
    {
      "cell_type": "markdown",
      "source": [
        "## Clone and Set Up DECA Repository\n",
        "\n",
        "In this step, we clone the DECA repository from GitHub and change the working directory to the DECA folder. This prepares the environment so we can use DECA’s code and resources in this Colab notebook."
      ],
      "metadata": {
        "id": "w-ENcBbBQVOC"
      }
    },
    {
      "cell_type": "code",
      "execution_count": null,
      "metadata": {
        "colab": {
          "base_uri": "https://localhost:8080/"
        },
        "id": "pEhq99CR5J42",
        "outputId": "13a04c23-30e2-4e20-83aa-8d80ebdf5a2f"
      },
      "outputs": [
        {
          "output_type": "stream",
          "name": "stdout",
          "text": [
            "Cloning into 'DECA'...\n",
            "remote: Enumerating objects: 466, done.\u001b[K\n",
            "remote: Counting objects: 100% (234/234), done.\u001b[K\n",
            "remote: Compressing objects: 100% (84/84), done.\u001b[K\n",
            "remote: Total 466 (delta 169), reused 151 (delta 150), pack-reused 232 (from 2)\u001b[K\n",
            "Receiving objects: 100% (466/466), 22.97 MiB | 16.92 MiB/s, done.\n",
            "Resolving deltas: 100% (206/206), done.\n",
            "/content/DECA\n"
          ]
        }
      ],
      "source": [
        "!git clone https://github.com/mlDaddy/DECA\n",
        "%cd DECA"
      ]
    },
    {
      "cell_type": "markdown",
      "source": [
        "## Download Required Model Data\n",
        "\n",
        "This step runs the `fetch_data.sh` script to automatically download all necessary model files and datasets for DECA.  \n",
        "You must register at [FLAME](https://flame.is.tue.mpg.de/) and agree to the license terms before using the FLAME model.  \n",
        "The script will download the FLAME model files and the DECA model weights, and extract them into the appropriate directories for use in this notebook."
      ],
      "metadata": {
        "id": "ogrM_4X3Q2KA"
      }
    },
    {
      "cell_type": "code",
      "execution_count": null,
      "metadata": {
        "colab": {
          "base_uri": "https://localhost:8080/"
        },
        "id": "btWCNKYe-Akv",
        "outputId": "d477fb45-3024-4db4-9c11-884d6f52b249"
      },
      "outputs": [
        {
          "output_type": "stream",
          "name": "stdout",
          "text": [
            "\n",
            "Before you continue, you must register at https://flame.is.tue.mpg.de/ and agree to the FLAME license terms.\n",
            "Username (FLAME):m.adnan.anwer@gmail.com\n",
            "Password (FLAME):Wn&5~+]TaQpahKt\n",
            "\n",
            "Downloading FLAME...\n",
            "--2025-05-21 14:28:35--  https://download.is.tue.mpg.de/download.php?domain=flame&sfile=FLAME2020.zip&resume=1\n",
            "Resolving download.is.tue.mpg.de (download.is.tue.mpg.de)... 192.124.27.139\n",
            "Connecting to download.is.tue.mpg.de (download.is.tue.mpg.de)|192.124.27.139|:443... connected.\n",
            "HTTP request sent, awaiting response... 302 Found\n",
            "Location: download.php?domain=flame&sfile=FLAME2020.zip&resume=1 [following]\n",
            "--2025-05-21 14:28:36--  https://download.is.tue.mpg.de/download.php?domain=flame&sfile=FLAME2020.zip&resume=1\n",
            "Reusing existing connection to download.is.tue.mpg.de:443.\n",
            "HTTP request sent, awaiting response... 200 OK\n",
            "Length: 153808252 (147M) [application/octet-stream]\n",
            "Saving to: ‘./data/FLAME2020.zip’\n",
            "\n",
            "./data/FLAME2020.zi 100%[===================>] 146.68M  1.93MB/s    in 89s     \n",
            "\n",
            "2025-05-21 14:30:06 (1.65 MB/s) - ‘./data/FLAME2020.zip’ saved [153808252/153808252]\n",
            "\n",
            "Archive:  ./data/FLAME2020.zip\n",
            "  inflating: ./data/FLAME2020/female_model.pkl  \n",
            "  inflating: ./data/FLAME2020/generic_model.pkl  \n",
            "  inflating: ./data/FLAME2020/male_model.pkl  \n",
            "replace ./data/FLAME2020/Readme.pdf? [y]es, [n]o, [A]ll, [N]one, [r]ename: y\n",
            "  inflating: ./data/FLAME2020/Readme.pdf  \n",
            "\n",
            "Downloading deca_model...\n",
            "/usr/local/lib/python3.11/dist-packages/gdown/__main__.py:140: FutureWarning: Option `--id` was deprecated in version 4.3.1 and will be removed in 5.0. You don't need to pass it anymore to use a file ID.\n",
            "  warnings.warn(\n",
            "Downloading...\n",
            "From (original): https://drive.google.com/uc?id=1rp8kdyLPvErw2dTmqtjISRVvQLj6Yzje\n",
            "From (redirected): https://drive.google.com/uc?id=1rp8kdyLPvErw2dTmqtjISRVvQLj6Yzje&confirm=t&uuid=02cfe6a0-bbb6-4292-81b2-de8909a4eef1\n",
            "To: /content/DECA/data/deca_model.tar\n",
            "100% 434M/434M [00:10<00:00, 39.8MB/s]\n"
          ]
        }
      ],
      "source": [
        "!bash fetch_data.sh"
      ]
    },
    {
      "cell_type": "markdown",
      "source": [
        "## Install and Set Up Miniconda Environment\n",
        "\n",
        "This section installs Miniconda, adds it to the system PATH, and initializes conda for bash usage.  \n",
        "A new conda environment named `py37` with Python 3.7 is then created.  \n",
        "Setting up this environment ensures compatibility with the dependencies required for running DECA and related code in this notebook."
      ],
      "metadata": {
        "id": "qvL1fZ90Q9gH"
      }
    },
    {
      "cell_type": "code",
      "execution_count": null,
      "metadata": {
        "id": "CpXCTCm-CWt6",
        "colab": {
          "base_uri": "https://localhost:8080/"
        },
        "outputId": "b7358460-54ce-4ef3-9de5-2789565ef301"
      },
      "outputs": [
        {
          "output_type": "stream",
          "name": "stdout",
          "text": [
            "--2025-05-21 14:32:45--  https://repo.anaconda.com/miniconda/Miniconda3-latest-Linux-x86_64.sh\n",
            "Resolving repo.anaconda.com (repo.anaconda.com)... 104.16.191.158, 104.16.32.241, 2606:4700::6810:bf9e, ...\n",
            "Connecting to repo.anaconda.com (repo.anaconda.com)|104.16.191.158|:443... connected.\n",
            "HTTP request sent, awaiting response... 200 OK\n",
            "Length: 155472915 (148M) [application/octet-stream]\n",
            "Saving to: ‘Miniconda3-latest-Linux-x86_64.sh’\n",
            "\n",
            "Miniconda3-latest-L 100%[===================>] 148.27M   307MB/s    in 0.5s    \n",
            "\n",
            "2025-05-21 14:32:46 (307 MB/s) - ‘Miniconda3-latest-Linux-x86_64.sh’ saved [155472915/155472915]\n",
            "\n",
            "entry_point.py:256: DeprecationWarning: Python 3.14 will, by default, filter extracted tar archives and reject files or modify their metadata. Use the filter argument to control this behavior.\n",
            "entry_point.py:256: DeprecationWarning: Python 3.14 will, by default, filter extracted tar archives and reject files or modify their metadata. Use the filter argument to control this behavior.\n",
            "entry_point.py:256: DeprecationWarning: Python 3.14 will, by default, filter extracted tar archives and reject files or modify their metadata. Use the filter argument to control this behavior.\n",
            "no change     /usr/local/condabin/conda\n",
            "no change     /usr/local/bin/conda\n",
            "no change     /usr/local/bin/conda-env\n",
            "no change     /usr/local/bin/activate\n",
            "no change     /usr/local/bin/deactivate\n",
            "no change     /usr/local/etc/profile.d/conda.sh\n",
            "no change     /usr/local/etc/fish/conf.d/conda.fish\n",
            "no change     /usr/local/shell/condabin/Conda.psm1\n",
            "no change     /usr/local/shell/condabin/conda-hook.ps1\n",
            "no change     /usr/local/lib/python3.13/site-packages/xontrib/conda.xsh\n",
            "no change     /usr/local/etc/profile.d/conda.csh\n",
            "modified      /root/.bashrc\n",
            "\n",
            "==> For changes to take effect, close and re-open your current shell. <==\n",
            "\n"
          ]
        }
      ],
      "source": [
        "# Install Miniconda\n",
        "!wget -c https://repo.anaconda.com/miniconda/Miniconda3-latest-Linux-x86_64.sh > temp.o\n",
        "!chmod +x Miniconda3-latest-Linux-x86_64.sh > temp.o\n",
        "!bash ./Miniconda3-latest-Linux-x86_64.sh -b -f -p /usr/local > temp.o\n",
        "\n",
        "# Add conda to PATH\n",
        "import sys\n",
        "sys.path.append('/usr/local/lib/python3.7/site-packages')\n",
        "\n",
        "# Initialize conda for bash\n",
        "!conda init bash\n",
        "\n",
        "# create environment\n",
        "!conda create -y -n py37 python=3.7 > temp.o"
      ]
    },
    {
      "cell_type": "markdown",
      "source": [
        "## Install Python Dependencies in Conda Environment\n",
        "\n",
        "In this step, we activate the `py37` conda environment and install all required Python packages for DECA.  \n",
        "This includes installing dependencies from `requirements.txt`, as well as specific versions of additional libraries such as `pydantic`, `gradio`, `openai`, `pillow`, `matplotlib_inline`, `ipython`, and `pytorch3d`.  \n",
        "We also install compatible versions of PyTorch, torchvision, and the CUDA toolkit to ensure GPU support and compatibility with the DECA codebase."
      ],
      "metadata": {
        "id": "ufqcUws6RCAJ"
      }
    },
    {
      "cell_type": "code",
      "execution_count": null,
      "metadata": {
        "id": "v2uNR6sQcQA5"
      },
      "outputs": [],
      "source": [
        "!source activate py37 && pip install -r requirements.txt -q > temp.o\n",
        "!source activate py37 && pip install pydantic==1.10.8 typing-extensions==4.5.0 gradio==3.34.0 openai pillow matplotlib_inline ipython -q > temp.o\n",
        "!source activate py37 && pip install pytorch3d==0.2.5 -q > temp.o\n",
        "!source activate py37 && conda install --yes pytorch==1.6.0 torchvision==0.7.0 cudatoolkit=10.1 -c pytorch > temp.o\n",
        "!source activate py37 && conda install --yes pytorch==1.6.0 torchvision==0.7.0 cudatoolkit=10.1 -c pytorch > temp.o"
      ]
    },
    {
      "cell_type": "markdown",
      "source": [
        "## Test DECA Face Reconstruction\n",
        "\n",
        "This step activates the `py37` conda environment and runs the `test_face_reconstruction.py` script to test DECA’s face reconstruction functionality.  \n",
        "It verifies that the installation and setup were successful and that DECA is working as expected."
      ],
      "metadata": {
        "id": "SRsS_MzCRMvs"
      }
    },
    {
      "cell_type": "code",
      "source": [
        "!source activate py37 && python test_face_reconstruction.py"
      ],
      "metadata": {
        "colab": {
          "base_uri": "https://localhost:8080/"
        },
        "id": "8a1J49jPlKlP",
        "outputId": "9534728a-24b8-4905-be3f-a3e31993bbcf"
      },
      "execution_count": null,
      "outputs": [
        {
          "output_type": "stream",
          "name": "stdout",
          "text": [
            "creating the FLAME Decoder\n",
            "trained model found. load /content/DECA/data/deca_model.tar\n",
            "/usr/local/envs/py37/lib/python3.7/site-packages/torch/nn/functional.py:3121: UserWarning: Default upsampling behavior when mode=bilinear is changed to align_corners=False since 0.4.0. Please specify align_corners=True if the old behavior is desired. See the documentation of nn.Upsample for details.\n",
            "  \"See the documentation of nn.Upsample for details.\".format(mode))\n",
            "/content/DECA/decalib/deca.py:128: UserWarning: Mixed memory format inputs detected while calling the operator. The operator will output channels_last tensor even if some of the inputs are not in channels_last format. (Triggered internally at  /opt/conda/conda-bld/pytorch_1595629403081/work/aten/src/ATen/native/TensorIterator.cpp:924.)\n",
            "  uv_detail_normals = uv_detail_normals*self.uv_face_eye_mask + uv_coarse_normals*(1.-self.uv_face_eye_mask)\n",
            "{'obj_path': 'output/face_20250521_143821/face_20250521_143821.obj', 'vis_path': 'output/face_20250521_143821/face_20250521_143821_vis.jpg'}\n"
          ]
        }
      ]
    },
    {
      "cell_type": "markdown",
      "source": [
        "## Launch DECA Gradio App\n",
        "\n",
        "This step activates the `py37` conda environment and runs `main.py`, which launches the Gradio web application for the full DECA pipeline.  \n",
        "The Gradio app provides an interactive interface to use DECA’s features directly from your browser."
      ],
      "metadata": {
        "id": "G1j-VxdJRWgB"
      }
    },
    {
      "cell_type": "code",
      "source": [
        "!source activate py37 && python main.py"
      ],
      "metadata": {
        "colab": {
          "base_uri": "https://localhost:8080/"
        },
        "id": "gCxwnD7eol2T",
        "outputId": "b7a67f4c-f55d-457f-86cc-46fd3c73b684"
      },
      "execution_count": null,
      "outputs": [
        {
          "output_type": "stream",
          "name": "stdout",
          "text": [
            "Running on local URL:  http://127.0.0.1:7860\n",
            "Running on public URL: https://6fdbb55da9284776e0.gradio.live\n",
            "\n",
            "This share link expires in 72 hours. For free permanent hosting and GPU upgrades, run `gradio deploy` from Terminal to deploy to Spaces (https://huggingface.co/spaces)\n"
          ]
        }
      ]
    }
  ],
  "metadata": {
    "accelerator": "GPU",
    "colab": {
      "gpuType": "T4",
      "provenance": []
    },
    "kernelspec": {
      "display_name": "Python 3",
      "name": "python3"
    },
    "language_info": {
      "name": "python"
    }
  },
  "nbformat": 4,
  "nbformat_minor": 0
}